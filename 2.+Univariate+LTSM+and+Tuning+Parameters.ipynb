{
 "cells": [
  {
   "cell_type": "markdown",
   "metadata": {},
   "source": [
    "# LSTM with Memory Between Batches"
   ]
  },
  {
   "cell_type": "markdown",
   "metadata": {},
   "source": [
    "Reference: https://machinelearningmastery.com/tune-lstm-hyperparameters-keras-time-series-forecasting/"
   ]
  },
  {
   "cell_type": "code",
   "execution_count": 1,
   "metadata": {},
   "outputs": [
    {
     "name": "stderr",
     "output_type": "stream",
     "text": [
      "Using TensorFlow backend.\n"
     ]
    }
   ],
   "source": [
    "import numpy\n",
    "from numpy import concatenate\n",
    "import math\n",
    "from math import sqrt\n",
    "\n",
    "import pandas as pd\n",
    "from pandas.plotting import autocorrelation_plot\n",
    "from pandas import DataFrame\n",
    "from pandas import Series\n",
    "from pandas import concat\n",
    "from pandas import read_csv\n",
    "from pandas import datetime\n",
    "\n",
    "from sklearn.metrics import mean_absolute_error\n",
    "from sklearn.preprocessing import LabelEncoder\n",
    "from sklearn.preprocessing import MinMaxScaler\n",
    "from sklearn.metrics import mean_squared_error\n",
    "\n",
    "from keras.models import Sequential\n",
    "from keras.layers import Dense\n",
    "from keras.layers import LSTM\n",
    "\n",
    "\n",
    "import matplotlib\n",
    "matplotlib.use('Agg')\n",
    "\n",
    "from matplotlib import pyplot\n",
    "import matplotlib.pyplot as plt\n",
    "%matplotlib inline"
   ]
  },
  {
   "cell_type": "code",
   "execution_count": 5,
   "metadata": {},
   "outputs": [
    {
     "name": "stdout",
     "output_type": "stream",
     "text": [
      "1143\n",
      "             OpenMid   HighMid    LowMid  CloseMid   lowBid  highAsk  \\\n",
      "time                                                                   \n",
      "2014-01-01  1.375250  1.377385  1.374245  1.376425  1.37353  1.37757   \n",
      "2014-01-02  1.376435  1.377565  1.362960  1.366535  1.36290  1.37769   \n",
      "2014-01-03  1.366535  1.367205  1.358250  1.358885  1.35818  1.36727   \n",
      "\n",
      "              volume  Volatility  \n",
      "time                              \n",
      "2014-01-01    5106.0     0.00404  \n",
      "2014-01-02  102368.0     0.01479  \n",
      "2014-01-03   68106.0     0.00909  \n",
      "            Volatility\n",
      "time                  \n",
      "2014-01-02     0.01479\n",
      "2014-01-03     0.00909\n",
      "2014-01-05     0.00138\n"
     ]
    }
   ],
   "source": [
    "# Apple file path\n",
    "eur = pd.read_csv(\"/Users/john/Desktop/eurv1.csv\", parse_dates=['time'], index_col=['time'], \n",
    "                  usecols= ['OpenMid', 'HighMid', 'LowMid', 'CloseMid', 'lowBid','highAsk','volume', 'time'])\n",
    "\n",
    "# Windows file path\n",
    "#eur = pd.read_csv(\"C:/Users/jkyvetos/Desktop/EURUSD volatility analysis/eurv1.csv\", parse_dates=['time'], index_col=['time'], \n",
    "#                  usecols= ['OpenMid', 'HighMid', 'LowMid', 'CloseMid', 'lowBid','highAsk','volume', 'time'])\n",
    "\n",
    "eur1d = eur.resample('1D').agg({'OpenMid': 'first', \n",
    "                       'HighMid': 'max', \n",
    "                        'LowMid': 'min', \n",
    "                      'CloseMid': 'last',\n",
    "                       'lowBid' : 'min',\n",
    "                      'highAsk' : 'max',\n",
    "                       'volume' : 'sum'})\n",
    "\n",
    "eur1d.dropna(inplace=True)\n",
    "#eur1d.fillna(method='ffill', inplace=True)\n",
    "\n",
    "eur1d['Volatility'] = eur1d['highAsk'] - eur1d['lowBid']\n",
    "dataset = eur1d['Volatility'].to_frame()\n",
    "dataset = dataset.astype('float32')\n",
    "dataset = dataset[1:]\n",
    "print(len(dataset))\n",
    "print(eur1d.head(3))\n",
    "print(dataset.head(3))"
   ]
  },
  {
   "cell_type": "code",
   "execution_count": 5,
   "metadata": {},
   "outputs": [
    {
     "name": "stdout",
     "output_type": "stream",
     "text": [
      "0) TrainRMSE=0.012656, TestRMSE=0.012009\n",
      "1) TrainRMSE=0.012650, TestRMSE=0.011710\n",
      "2) TrainRMSE=0.012485, TestRMSE=0.011620\n",
      "3) TrainRMSE=0.012468, TestRMSE=0.012022\n",
      "4) TrainRMSE=0.012578, TestRMSE=0.012008\n"
     ]
    },
    {
     "data": {
      "image/png": "[encoded data removed]",
      "text/plain": [
       "<matplotlib.figure.Figure at 0x1c1df116d8>"
      ]
     },
     "metadata": {},
     "output_type": "display_data"
    }
   ],
   "source": [
    "# frame a sequence as a supervised learning problem\n",
    "def timeseries_to_supervised(data, lag=1, dropnan=True):\n",
    "    df = DataFrame(data)\n",
    "    columns = [df.shift(i) for i in range(1, lag+1)]\n",
    "    columns.append(df)\n",
    "    df = concat(columns, axis=1)\n",
    "    df = df.drop(0)\n",
    "    return df \n",
    " \n",
    "# scale train and test data to [-1, 1]\n",
    "def scale(train, test):\n",
    "    # fit scaler\n",
    "    scaler = MinMaxScaler(feature_range=(-1, 1))\n",
    "    scaler = scaler.fit(train)\n",
    "    # transform train\n",
    "    train = train.reshape(train.shape[0], train.shape[1])\n",
    "    train_scaled = scaler.transform(train)\n",
    "    # transform test\n",
    "    test = test.reshape(test.shape[0], test.shape[1])\n",
    "    test_scaled = scaler.transform(test)\n",
    "    return scaler, train_scaled, test_scaled\n",
    " \n",
    "# inverse scaling for a forecasted value\n",
    "def invert_scale(scaler, X, yhat):\n",
    "    new_row = [x for x in X] + [yhat]\n",
    "    array = numpy.array(new_row)\n",
    "    array = array.reshape(1, len(array))\n",
    "    inverted = scaler.inverse_transform(array)\n",
    "    return inverted[0, -1]\n",
    " \n",
    "# evaluate the model on a dataset, returns RMSE in transformed units\n",
    "def evaluate(model, raw_data, scaled_dataset, scaler, offset, batch_size):\n",
    "    # separate\n",
    "    X, y = scaled_dataset[:,0:-1], scaled_dataset[:,-1]\n",
    "    # reshape\n",
    "    reshaped = X.reshape(len(X), 1, 1)\n",
    "    # forecast dataset\n",
    "    output = model.predict(reshaped, batch_size=batch_size)\n",
    "    # invert data transforms on forecast\n",
    "    predictions = list()\n",
    "    for i in range(len(output)):\n",
    "        yhat = output[i,0]\n",
    "        # invert scaling\n",
    "        yhat = invert_scale(scaler, X[i], yhat)\n",
    "        # invert differencing\n",
    "        yhat = yhat + raw_data[i]\n",
    "        # store forecast\n",
    "        predictions.append(yhat)\n",
    "    # report performance\n",
    "    rmse = sqrt(mean_squared_error(raw_data[1:], predictions))\n",
    "    return rmse\n",
    " \n",
    "# fit an LSTM network to training data\n",
    "def fit_lstm(train, test, raw, scaler, batch_size, nb_epoch, neurons):\n",
    "    X, y = train[:, 0:-1], train[:, -1]\n",
    "    X = X.reshape(X.shape[0], 1, X.shape[1])\n",
    "    # prepare model\n",
    "    model = Sequential()\n",
    "    model.add(LSTM(neurons, batch_input_shape=(batch_size, X.shape[1], X.shape[2]), stateful=True))\n",
    "    model.add(Dense(1))\n",
    "    model.compile(loss='mean_squared_error', optimizer='adam')\n",
    "    # fit model\n",
    "    train_rmse, test_rmse = list(), list()\n",
    "    for i in range(nb_epoch):\n",
    "        model.fit(X, y, epochs=1, batch_size=batch_size, verbose=0, shuffle=False)\n",
    "        model.reset_states()\n",
    "        # evaluate model on train data\n",
    "        raw_train = raw[-(len(train)+len(test)+1):-len(test)]\n",
    "        train_rmse.append(evaluate(model, raw_train, train, scaler, 0, batch_size))\n",
    "        model.reset_states()\n",
    "        # evaluate model on test data\n",
    "        raw_test = raw[-(len(test)+1):]\n",
    "        test_rmse.append(evaluate(model, raw_test, test, scaler, 0, batch_size))\n",
    "        model.reset_states()\n",
    "    history = DataFrame()\n",
    "    history['train'], history['test'] = train_rmse, test_rmse\n",
    "    return history\n",
    " \n",
    "# run diagnostic experiments\n",
    "def run():\n",
    "    series = dataset\n",
    "    raw_values = series.values\n",
    "    # transform data to be supervised learning\n",
    "    supervised = timeseries_to_supervised(raw_values, 1)\n",
    "    supervised_values = supervised.values\n",
    "    # split data into train and test-sets\n",
    "    train, test = supervised_values[0:-540], supervised_values[-540:]\n",
    "    # transform the scale of the data\n",
    "    scaler, train_scaled, test_scaled = scale(train, test)\n",
    "    # fit and evaluate model\n",
    "    train_trimmed = train_scaled[2:, :]\n",
    "    # config\n",
    "    repeats = 5\n",
    "    n_batch = 1\n",
    "    n_epochs = 10\n",
    "    n_neurons = 1\n",
    "    # run diagnostic tests\n",
    "    for i in range(repeats):\n",
    "        history = fit_lstm(train_trimmed, test_scaled, raw_values, scaler, n_batch, n_epochs, n_neurons)\n",
    "        pyplot.plot(history['train'], color='blue')\n",
    "        pyplot.plot(history['test'], color='orange')\n",
    "        print('%d) TrainRMSE=%f, TestRMSE=%f' % (i, history['train'].iloc[-1], history['test'].iloc[-1]))\n",
    "    pyplot.savefig('epochs_diagnostic.png')\n",
    "\n",
    "# entry point\n",
    "run()"
   ]
  },
  {
   "cell_type": "markdown",
   "metadata": {},
   "source": [
    "# Tuning parameters, first with epoch"
   ]
  },
  {
   "cell_type": "code",
   "execution_count": 92,
   "metadata": {},
   "outputs": [
    {
     "name": "stdout",
     "output_type": "stream",
     "text": [
      "1) Test RMSE: 0.00499\n",
      "2) Test RMSE: 0.00503\n",
      "3) Test RMSE: 0.00501\n",
      "4) Test RMSE: 0.00494\n",
      "5) Test RMSE: 0.00503\n",
      "1) Test RMSE: 0.00511\n",
      "2) Test RMSE: 0.00497\n",
      "3) Test RMSE: 0.00501\n",
      "4) Test RMSE: 0.00498\n",
      "5) Test RMSE: 0.00503\n",
      "1) Test RMSE: 0.00504\n",
      "2) Test RMSE: 0.00508\n",
      "3) Test RMSE: 0.00478\n",
      "4) Test RMSE: 0.00512\n",
      "5) Test RMSE: 0.00517\n",
      "1) Test RMSE: 0.00499\n",
      "2) Test RMSE: 0.00509\n",
      "3) Test RMSE: 0.00506\n",
      "4) Test RMSE: 0.00505\n",
      "5) Test RMSE: 0.00503\n",
      "1) Test RMSE: 0.00509\n",
      "2) Test RMSE: 0.00508\n",
      "3) Test RMSE: 0.00514\n",
      "4) Test RMSE: 0.00514\n",
      "5) Test RMSE: 0.00509\n",
      "1) Test RMSE: 0.00511\n",
      "2) Test RMSE: 0.00513\n",
      "3) Test RMSE: 0.00516\n",
      "4) Test RMSE: 0.00515\n",
      "5) Test RMSE: 0.00510\n",
      "1) Test RMSE: 0.00513\n",
      "2) Test RMSE: 0.00512\n",
      "3) Test RMSE: 0.00512\n",
      "4) Test RMSE: 0.00513\n",
      "5) Test RMSE: 0.00514\n",
      "             20        30        40        50       100       150       200\n",
      "count  5.000000  5.000000  5.000000  5.000000  5.000000  5.000000  5.000000\n",
      "mean   0.005002  0.005019  0.005039  0.005044  0.005108  0.005128  0.005129\n",
      "std    0.000038  0.000055  0.000151  0.000037  0.000027  0.000027  0.000008\n",
      "min    0.004942  0.004973  0.004783  0.004989  0.005082  0.005097  0.005121\n",
      "25%    0.004995  0.004975  0.005044  0.005031  0.005090  0.005105  0.005121\n",
      "50%    0.005005  0.005012  0.005076  0.005052  0.005094  0.005130  0.005131\n",
      "75%    0.005035  0.005029  0.005122  0.005058  0.005137  0.005153  0.005131\n",
      "max    0.005035  0.005107  0.005169  0.005090  0.005138  0.005155  0.005140\n"
     ]
    },
    {
     "data": {
      "image/png": "[encoded data removed]",
      "text/plain": [
       "<matplotlib.figure.Figure at 0x22392c17e80>"
      ]
     },
     "metadata": {},
     "output_type": "display_data"
    }
   ],
   "source": [
    "# run a repeated experiment\n",
    "def experiment(repeats, series, epochs):\n",
    "    series = dataset\n",
    "    raw_values = series.values\n",
    "    # transform data to be supervised learning\n",
    "    supervised = timeseries_to_supervised(raw_values, 1)\n",
    "    supervised_values = supervised.values\n",
    "    # split data into train and test-sets\n",
    "    train, test = supervised_values[0:-540], supervised_values[-540:]\n",
    "    # transform the scale of the data\n",
    "    scaler, train_scaled, test_scaled = scale(train, test)\n",
    "    # run experiment\n",
    "    error_scores = list()\n",
    "    for r in range(repeats):\n",
    "        # fit the model\n",
    "        batch_size = 1\n",
    "        train_trimmed = train_scaled[2:, :]\n",
    "        lstm_model = fit_lstm(train_trimmed, batch_size, epochs, 1)\n",
    "        # forecast the entire training dataset to build up state for forecasting\n",
    "        train_reshaped = train_trimmed[:, 0].reshape(len(train_trimmed), 1, 1)\n",
    "        lstm_model.predict(train_reshaped, batch_size=batch_size)\n",
    "        # forecast test dataset\n",
    "        test_reshaped = test_scaled[:,0:-1]\n",
    "        test_reshaped = test_reshaped.reshape(len(test_reshaped), 1, 1)\n",
    "        output = lstm_model.predict(test_reshaped, batch_size=batch_size)\n",
    "        predictions = list()\n",
    "        for i in range(len(output)):\n",
    "            yhat = output[i,0]\n",
    "            X = test_scaled[i, 0:-1]\n",
    "            # invert scaling\n",
    "            yhat = invert_scale(scaler, X, yhat)\n",
    "            # store forecast\n",
    "            predictions.append(yhat)\n",
    "        # report performance\n",
    "        rmse = sqrt(mean_squared_error(raw_values[-540:], predictions))\n",
    "        print('%d) Test RMSE: %.5f' % (r+1, rmse))\n",
    "        error_scores.append(rmse)\n",
    "    return error_scores\n",
    "\n",
    "# load dataset\n",
    "series = dataset\n",
    "# experiment\n",
    "repeats = 5\n",
    "n_batch = 1\n",
    "n_neurons = 1\n",
    "\n",
    "results = pd.DataFrame()\n",
    "# vary training epochs\n",
    "epochs = [20, 30, 40, 50, 100, 150, 200]\n",
    "for e in epochs:\n",
    "    results[str(e)] = experiment(repeats, series, e)\n",
    "\n",
    "# summarize results\n",
    "print(results.describe())\n",
    "# save boxplot\n",
    "results.boxplot()\n",
    "pyplot.savefig('boxplot_epochs.png')"
   ]
  },
  {
   "cell_type": "code",
   "execution_count": 94,
   "metadata": {
    "collapsed": true
   },
   "outputs": [],
   "source": [
    "# Epoch 20 is the best, i will keep this"
   ]
  },
  {
   "cell_type": "markdown",
   "metadata": {},
   "source": [
    "# Tune Batch Size"
   ]
  },
  {
   "cell_type": "code",
   "execution_count": 56,
   "metadata": {},
   "outputs": [],
   "source": [
    "# run a repeated experiment\n",
    "def experiment(repeats, series, batch_size):\n",
    "    series = dataset\n",
    "    raw_values = series.values\n",
    "    # transform data to be supervised learning\n",
    "    supervised = timeseries_to_supervised(raw_values, 1)\n",
    "    supervised_values = supervised.values\n",
    "    # split data into train and test-sets\n",
    "    train, test = supervised_values[0:-540], supervised_values[-540:]\n",
    "    # transform the scale of the data\n",
    "    scaler, train_scaled, test_scaled = scale(train, test)\n",
    "    # run experiment\n",
    "    error_scores = list()\n",
    "    for r in range(repeats):\n",
    "        # fit the model\n",
    "        train_trimmed = train_scaled[2:, :]\n",
    "        lstm_model = fit_lstm(train_trimmed, batch_size, 20, 1)\n",
    "        # forecast the entire training dataset to build up state for forecasting\n",
    "        train_reshaped = train_trimmed[:, 0].reshape(len(train_trimmed), 1, 1)\n",
    "        lstm_model.predict(train_reshaped, batch_size=batch_size)\n",
    "        # forecast test dataset\n",
    "        test_reshaped = test_scaled[:,0:-1]\n",
    "        test_reshaped = test_reshaped.reshape(len(test_reshaped), 1, 1)\n",
    "        output = lstm_model.predict(test_reshaped, batch_size=batch_size)\n",
    "        predictions = list()\n",
    "        for i in range(len(output)):\n",
    "            yhat = output[i,0]\n",
    "            X = test_scaled[i, 0:-1]\n",
    "            # invert scaling\n",
    "            yhat = invert_scale(scaler, X, yhat)\n",
    "            # store forecast\n",
    "            predictions.append(yhat)\n",
    "        # report performance\n",
    "        rmse = sqrt(mean_squared_error(raw_values[-540:], predictions))\n",
    "        print('%d) Test RMSE: %.5f' % (r+1, rmse))\n",
    "        error_scores.append(rmse)\n",
    "    return error_scores\n"
   ]
  },
  {
   "cell_type": "code",
   "execution_count": 62,
   "metadata": {},
   "outputs": [
    {
     "name": "stdout",
     "output_type": "stream",
     "text": [
      "1) Test RMSE: 0.00510\n",
      "2) Test RMSE: 0.00520\n",
      "3) Test RMSE: 0.00518\n",
      "4) Test RMSE: 0.00500\n",
      "5) Test RMSE: 0.00498\n",
      "1) Test RMSE: 0.00507\n",
      "2) Test RMSE: 0.00508\n",
      "3) Test RMSE: 0.00508\n",
      "4) Test RMSE: 0.00507\n",
      "5) Test RMSE: 0.00504\n",
      "1) Test RMSE: 0.00499\n",
      "2) Test RMSE: 0.00503\n",
      "3) Test RMSE: 0.00507\n",
      "4) Test RMSE: 0.00498\n",
      "5) Test RMSE: 0.00497\n",
      "1) Test RMSE: 0.00494\n",
      "2) Test RMSE: 0.00485\n",
      "3) Test RMSE: 0.00490\n",
      "4) Test RMSE: 0.00490\n",
      "5) Test RMSE: 0.00485\n",
      "              2         4         6        10\n",
      "count  5.000000  5.000000  5.000000  5.000000\n",
      "mean   0.005090  0.005068  0.005011  0.004888\n",
      "std    0.000103  0.000017  0.000040  0.000037\n",
      "min    0.004978  0.005040  0.004975  0.004850\n",
      "25%    0.004996  0.005071  0.004984  0.004853\n",
      "50%    0.005096  0.005072  0.004991  0.004898\n",
      "75%    0.005180  0.005078  0.005034  0.004900\n",
      "max    0.005203  0.005082  0.005071  0.004938\n"
     ]
    },
    {
     "data": {
      "image/png": "[encoded data removed]",
      "text/plain": [
       "<matplotlib.figure.Figure at 0x222a15ad940>"
      ]
     },
     "metadata": {},
     "output_type": "display_data"
    }
   ],
   "source": [
    "# load dataset\n",
    "series = dataset\n",
    "# experiment\n",
    "repeats = 5\n",
    "results = DataFrame()\n",
    "# vary training batches\n",
    "batches = [2, 4, 6, 10]\n",
    "for b in batches:\n",
    "    results[str(b)] = experiment(repeats, series, b)\n",
    "# summarize results\n",
    "print(results.describe())\n",
    "# save boxplot\n",
    "results.boxplot()\n",
    "pyplot.savefig('boxplot_batches.png')"
   ]
  },
  {
   "cell_type": "code",
   "execution_count": 13,
   "metadata": {},
   "outputs": [],
   "source": [
    "# 10 batch size the best and much better than  1"
   ]
  },
  {
   "cell_type": "markdown",
   "metadata": {},
   "source": [
    "# Tune Neurons"
   ]
  },
  {
   "cell_type": "code",
   "execution_count": 64,
   "metadata": {},
   "outputs": [
    {
     "name": "stdout",
     "output_type": "stream",
     "text": [
      "1) Test RMSE: 0.00502\n",
      "2) Test RMSE: 0.00488\n",
      "3) Test RMSE: 0.00480\n",
      "4) Test RMSE: 0.00481\n",
      "5) Test RMSE: 0.00508\n",
      "1) Test RMSE: 0.00501\n",
      "2) Test RMSE: 0.00491\n",
      "3) Test RMSE: 0.00491\n",
      "4) Test RMSE: 0.00496\n",
      "5) Test RMSE: 0.00492\n",
      "1) Test RMSE: 0.00493\n",
      "2) Test RMSE: 0.00497\n",
      "3) Test RMSE: 0.00494\n",
      "4) Test RMSE: 0.00487\n",
      "5) Test RMSE: 0.00495\n",
      "1) Test RMSE: 0.00487\n",
      "2) Test RMSE: 0.00496\n",
      "3) Test RMSE: 0.00493\n",
      "4) Test RMSE: 0.00493\n",
      "5) Test RMSE: 0.00492\n",
      "1) Test RMSE: 0.00510\n",
      "2) Test RMSE: 0.00496\n",
      "3) Test RMSE: 0.00491\n",
      "4) Test RMSE: 0.00507\n",
      "5) Test RMSE: 0.00511\n",
      "1) Test RMSE: 0.00515\n",
      "2) Test RMSE: 0.00513\n",
      "3) Test RMSE: 0.00509\n",
      "4) Test RMSE: 0.00516\n",
      "5) Test RMSE: 0.00520\n",
      "              1         2         3         4         5        10\n",
      "count  5.000000  5.000000  5.000000  5.000000  5.000000  5.000000\n",
      "mean   0.004920  0.004942  0.004931  0.004921  0.005030  0.005146\n",
      "std    0.000125  0.000041  0.000038  0.000031  0.000087  0.000041\n",
      "min    0.004804  0.004909  0.004869  0.004873  0.004915  0.005088\n",
      "25%    0.004814  0.004914  0.004929  0.004917  0.004962  0.005127\n",
      "50%    0.004879  0.004920  0.004936  0.004926  0.005065  0.005153\n",
      "75%    0.005022  0.004963  0.004953  0.004928  0.005103  0.005164\n",
      "max    0.005080  0.005005  0.004969  0.004960  0.005107  0.005199\n"
     ]
    },
    {
     "data": {
      "image/png": "[encoded data removed]",
      "text/plain": [
       "<matplotlib.figure.Figure at 0x222da9916d8>"
      ]
     },
     "metadata": {},
     "output_type": "display_data"
    }
   ],
   "source": [
    "# run a repeated experiment\n",
    "def experiment(repeats, series, neurons):\n",
    "    series = dataset\n",
    "    raw_values = series.values\n",
    "    # transform data to be supervised learning\n",
    "    supervised = timeseries_to_supervised(raw_values, 1)\n",
    "    supervised_values = supervised.values\n",
    "    # split data into train and test-sets\n",
    "    train, test = supervised_values[0:-540], supervised_values[-540:]\n",
    "    # transform the scale of the data\n",
    "    scaler, train_scaled, test_scaled = scale(train, test)\n",
    "    # run experiment\n",
    "    error_scores = list()\n",
    "    for r in range(repeats):\n",
    "        # fit the model\n",
    "        batch_size = 1\n",
    "        train_trimmed = train_scaled[2:, :]\n",
    "        lstm_model = fit_lstm(train_trimmed, 10, 20, neurons)\n",
    "        # forecast the entire training dataset to build up state for forecasting\n",
    "        train_reshaped = train_trimmed[:, 0].reshape(len(train_trimmed), 1, 1)\n",
    "        lstm_model.predict(train_reshaped, batch_size=10)\n",
    "        # forecast test dataset\n",
    "        test_reshaped = test_scaled[:,0:-1]\n",
    "        test_reshaped = test_reshaped.reshape(len(test_reshaped), 1, 1)\n",
    "        output = lstm_model.predict(test_reshaped, batch_size=10)\n",
    "        predictions = list()\n",
    "        for i in range(len(output)):\n",
    "            yhat = output[i,0]\n",
    "            X = test_scaled[i, 0:-1]\n",
    "            # invert scaling\n",
    "            yhat = invert_scale(scaler, X, yhat)\n",
    "            # store forecast\n",
    "            predictions.append(yhat)\n",
    "        # report performance\n",
    "        rmse = sqrt(mean_squared_error(raw_values[-540:], predictions))\n",
    "        print('%d) Test RMSE: %.5f' % (r+1, rmse))\n",
    "        error_scores.append(rmse)\n",
    "    return error_scores\n",
    " \n",
    "# load dataset\n",
    "series = dataset\n",
    "# experiment\n",
    "repeats = 5\n",
    "results = DataFrame()\n",
    "# vary neurons\n",
    "neurons = [1, 2, 3, 4, 5, 10]\n",
    "for n in neurons:\n",
    "    results[str(n)] = experiment(repeats, series, n)\n",
    "# summarize results\n",
    "print(results.describe())\n",
    "# save boxplot\n",
    "results.boxplot()\n",
    "pyplot.savefig('boxplot_neurons.png')"
   ]
  },
  {
   "cell_type": "code",
   "execution_count": 95,
   "metadata": {
    "collapsed": true
   },
   "outputs": [],
   "source": [
    "# I go for the 4 neurons due to much lower std compared to 1"
   ]
  },
  {
   "cell_type": "code",
   "execution_count": 4,
   "metadata": {},
   "outputs": [],
   "source": [
    "# Epoch = 20\n",
    "# Batch Size = 10\n",
    "# Number of Neurons = 4"
   ]
  },
  {
   "cell_type": "markdown",
   "metadata": {},
   "source": [
    "# Adding Layers"
   ]
  },
  {
   "cell_type": "code",
   "execution_count": 13,
   "metadata": {},
   "outputs": [
    {
     "name": "stdout",
     "output_type": "stream",
     "text": [
      "0) TrainRMSE=0.012652, TestRMSE=0.011596\n",
      "1) TrainRMSE=0.012712, TestRMSE=0.011742\n",
      "2) TrainRMSE=0.012479, TestRMSE=0.011275\n",
      "3) TrainRMSE=0.012963, TestRMSE=0.011290\n",
      "4) TrainRMSE=0.012731, TestRMSE=0.011401\n",
      "5) TrainRMSE=0.012802, TestRMSE=0.011685\n",
      "6) TrainRMSE=0.012470, TestRMSE=0.011397\n",
      "7) TrainRMSE=0.012469, TestRMSE=0.011364\n",
      "8) TrainRMSE=0.012690, TestRMSE=0.011661\n",
      "9) TrainRMSE=0.012044, TestRMSE=0.011065\n"
     ]
    },
    {
     "data": {
      "image/png": "[encoded data removed]",
      "text/plain": [
       "<matplotlib.figure.Figure at 0x1c235135f8>"
      ]
     },
     "metadata": {},
     "output_type": "display_data"
    }
   ],
   "source": [
    "def fit_lstm(train, test, raw, scaler, batch_size, nb_epoch, neurons):\n",
    "    X, y = train[:, 0:-1], train[:, -1]\n",
    "    X = X.reshape(X.shape[0], 1, X.shape[1])\n",
    "    # prepare model\n",
    "    model = Sequential()\n",
    "    model.add(LSTM(neurons, return_sequences=True, batch_input_shape=(batch_size, X.shape[1], X.shape[2]), stateful=True))\n",
    "    model.add(LSTM(neurons, batch_input_shape=(batch_size, X.shape[1], X.shape[2]), stateful=True))\n",
    "    model.add(Dense(1))\n",
    "    model.compile(loss='mean_squared_error', optimizer='adam')\n",
    "    # fit model\n",
    "    train_rmse, test_rmse = list(), list()\n",
    "    for i in range(nb_epoch):\n",
    "        model.fit(X, y, epochs=20, batch_size=10, verbose=0, shuffle=False)\n",
    "        model.reset_states()\n",
    "        # evaluate model on train data\n",
    "        raw_train = raw[-(len(train)+len(test)+1):-len(test)]\n",
    "        train_rmse.append(evaluate(model, raw_train, train, scaler, 0, batch_size))\n",
    "        model.reset_states()\n",
    "        # evaluate model on test data\n",
    "        raw_test = raw[-(len(test)+1):]\n",
    "        test_rmse.append(evaluate(model, raw_test, test, scaler, 0, batch_size))\n",
    "        model.reset_states()\n",
    "    history = DataFrame()\n",
    "    history['train'], history['test'] = train_rmse, test_rmse\n",
    "    return history\n",
    "\n",
    "def run():\n",
    "    series = dataset\n",
    "    raw_values = series.values\n",
    "    # transform data to be supervised learning\n",
    "    supervised = timeseries_to_supervised(raw_values, 1)\n",
    "    supervised_values = supervised.values\n",
    "    # split data into train and test-sets\n",
    "    train, test = supervised_values[0:-540], supervised_values[-540:]\n",
    "    # transform the scale of the data\n",
    "    scaler, train_scaled, test_scaled = scale(train, test)\n",
    "    # fit and evaluate model\n",
    "    train_trimmed = train_scaled[2:, :]\n",
    "    # config\n",
    "    repeats = 10\n",
    "    n_batch = 10\n",
    "    n_epochs = 20\n",
    "    n_neurons = 4\n",
    "    # run diagnostic tests\n",
    "    for i in range(repeats):\n",
    "        history = fit_lstm(train_trimmed, test_scaled, raw_values, scaler, n_batch, n_epochs, n_neurons)\n",
    "        pyplot.plot(history['train'], color='blue')\n",
    "        pyplot.plot(history['test'], color='orange')\n",
    "        print('%d) TrainRMSE=%f, TestRMSE=%f' % (i, history['train'].iloc[-1], history['test'].iloc[-1]))\n",
    "    pyplot.savefig('layers_diagnostic.png')\n",
    "\n",
    "# entry point\n",
    "run()"
   ]
  },
  {
   "cell_type": "code",
   "execution_count": null,
   "metadata": {},
   "outputs": [],
   "source": []
  }
 ],
 "metadata": {
  "kernelspec": {
   "display_name": "Python [default]",
   "language": "python",
   "name": "python3"
  },
  "language_info": {
   "codemirror_mode": {
    "name": "ipython",
    "version": 3
   },
   "file_extension": ".py",
   "mimetype": "text/x-python",
   "name": "python",
   "nbconvert_exporter": "python",
   "pygments_lexer": "ipython3",
   "version": "3.6.2"
  }
 },
 "nbformat": 4,
 "nbformat_minor": 2
}
